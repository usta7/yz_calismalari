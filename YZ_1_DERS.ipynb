{
  "nbformat": 4,
  "nbformat_minor": 0,
  "metadata": {
    "colab": {
      "provenance": []
    },
    "kernelspec": {
      "name": "python3",
      "display_name": "Python 3"
    },
    "language_info": {
      "name": "python"
    }
  },
  "cells": [
    {
      "cell_type": "markdown",
      "source": [
        "03,10,2024 - IGU MYO BILGISAYAR TEKNOLOJISI PROGRAMI YAPAY ZEKA DERSI ILK CIKTISI"
      ],
      "metadata": {
        "id": "a_8kyyNEYEIp"
      }
    },
    {
      "cell_type": "code",
      "execution_count": null,
      "metadata": {
        "colab": {
          "base_uri": "https://localhost:8080/"
        },
        "id": "ULXQD8YQXY60",
        "outputId": "2d468ffe-7479-4e67-c22e-6dfda10c0717"
      },
      "outputs": [
        {
          "output_type": "stream",
          "name": "stdout",
          "text": [
            "Merhaba IGU MYO YZ Dersı\n"
          ]
        }
      ],
      "source": [
        "print(\"Merhaba IGU MYO YZ Dersı\") # YAPAY ZEKA DERSI"
      ]
    },
    {
      "cell_type": "code",
      "source": [
        "import sys # import python programlama dilinde yazılıma kütüphaneye yarayan koddur\n",
        "print(sys.version)"
      ],
      "metadata": {
        "colab": {
          "base_uri": "https://localhost:8080/"
        },
        "id": "Fu4WBlkZjkK7",
        "outputId": "577079cc-7549-48af-e42f-4123d689395a"
      },
      "execution_count": 2,
      "outputs": [
        {
          "output_type": "stream",
          "name": "stdout",
          "text": [
            "3.10.12 (main, Sep 11 2024, 15:47:36) [GCC 11.4.0]\n"
          ]
        }
      ]
    },
    {
      "cell_type": "code",
      "source": [
        "from google.colab import drive # google colab - drive bağlantısı\n",
        "drive.mount('/content/drive')"
      ],
      "metadata": {
        "colab": {
          "base_uri": "https://localhost:8080/"
        },
        "id": "73_s_Mk2k9L5",
        "outputId": "064536d5-8e36-4da7-9645-d62a01fb9c16"
      },
      "execution_count": 5,
      "outputs": [
        {
          "output_type": "stream",
          "name": "stdout",
          "text": [
            "Mounted at /content/drive\n"
          ]
        }
      ]
    },
    {
      "cell_type": "code",
      "source": [
        "import os\n",
        "os.chdir('/content/drive/My Drive/YAPAYZEKADERSI')\n",
        "!pwd #bize kodun ciktisini dosya yolu olarak veren kod blogudur."
      ],
      "metadata": {
        "colab": {
          "base_uri": "https://localhost:8080/"
        },
        "id": "ATOlGXDzlhbv",
        "outputId": "54ce4c7a-222a-46c0-b272-795c2980904f"
      },
      "execution_count": 9,
      "outputs": [
        {
          "output_type": "stream",
          "name": "stdout",
          "text": [
            "/content/drive/My Drive/YAPAYZEKADERSI\n"
          ]
        }
      ]
    }
  ]
}